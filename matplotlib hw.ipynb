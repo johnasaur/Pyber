{
 "cells": [
  {
   "cell_type": "code",
   "execution_count": 4,
   "metadata": {},
   "outputs": [],
   "source": [
    "# dependencies, including seaborn\n",
    "import pandas as pd\n",
    "import numpy as np\n",
    "import matplotlib.pyplot as plt\n",
    "import seaborn as sns"
   ]
  },
  {
   "cell_type": "code",
   "execution_count": 5,
   "metadata": {},
   "outputs": [],
   "source": [
    "# import csv\n",
    "city_import = \"../Lesson-Plans/city_data.csv\"\n",
    "ride_import = \"../Lesson-Plans/ride_data.csv\""
   ]
  },
  {
   "cell_type": "code",
   "execution_count": 164,
   "metadata": {},
   "outputs": [
    {
     "data": {
      "text/html": [
       "<div>\n",
       "<style scoped>\n",
       "    .dataframe tbody tr th:only-of-type {\n",
       "        vertical-align: middle;\n",
       "    }\n",
       "\n",
       "    .dataframe tbody tr th {\n",
       "        vertical-align: top;\n",
       "    }\n",
       "\n",
       "    .dataframe thead th {\n",
       "        text-align: right;\n",
       "    }\n",
       "</style>\n",
       "<table border=\"1\" class=\"dataframe\">\n",
       "  <thead>\n",
       "    <tr style=\"text-align: right;\">\n",
       "      <th></th>\n",
       "      <th>city</th>\n",
       "      <th>driver_count</th>\n",
       "      <th>type</th>\n",
       "    </tr>\n",
       "  </thead>\n",
       "  <tbody>\n",
       "    <tr>\n",
       "      <th>0</th>\n",
       "      <td>Tammyburgh</td>\n",
       "      <td>11</td>\n",
       "      <td>Urban</td>\n",
       "    </tr>\n",
       "    <tr>\n",
       "      <th>1</th>\n",
       "      <td>Melissaborough</td>\n",
       "      <td>15</td>\n",
       "      <td>Urban</td>\n",
       "    </tr>\n",
       "    <tr>\n",
       "      <th>2</th>\n",
       "      <td>Port Brianborough</td>\n",
       "      <td>62</td>\n",
       "      <td>Urban</td>\n",
       "    </tr>\n",
       "    <tr>\n",
       "      <th>3</th>\n",
       "      <td>New Katherine</td>\n",
       "      <td>68</td>\n",
       "      <td>Urban</td>\n",
       "    </tr>\n",
       "    <tr>\n",
       "      <th>4</th>\n",
       "      <td>Lake Charlesside</td>\n",
       "      <td>65</td>\n",
       "      <td>Urban</td>\n",
       "    </tr>\n",
       "  </tbody>\n",
       "</table>\n",
       "</div>"
      ],
      "text/plain": [
       "                city  driver_count   type\n",
       "0         Tammyburgh            11  Urban\n",
       "1     Melissaborough            15  Urban\n",
       "2  Port Brianborough            62  Urban\n",
       "3      New Katherine            68  Urban\n",
       "4   Lake Charlesside            65  Urban"
      ]
     },
     "execution_count": 164,
     "metadata": {},
     "output_type": "execute_result"
    }
   ],
   "source": [
    "# read city csv file\n",
    "city_import_df = pd.read_csv(city_import)\n",
    "city_import_df.head()"
   ]
  },
  {
   "cell_type": "code",
   "execution_count": 7,
   "metadata": {},
   "outputs": [
    {
     "data": {
      "text/html": [
       "<div>\n",
       "<style scoped>\n",
       "    .dataframe tbody tr th:only-of-type {\n",
       "        vertical-align: middle;\n",
       "    }\n",
       "\n",
       "    .dataframe tbody tr th {\n",
       "        vertical-align: top;\n",
       "    }\n",
       "\n",
       "    .dataframe thead th {\n",
       "        text-align: right;\n",
       "    }\n",
       "</style>\n",
       "<table border=\"1\" class=\"dataframe\">\n",
       "  <thead>\n",
       "    <tr style=\"text-align: right;\">\n",
       "      <th></th>\n",
       "      <th>city</th>\n",
       "      <th>date</th>\n",
       "      <th>fare</th>\n",
       "      <th>ride_id</th>\n",
       "    </tr>\n",
       "  </thead>\n",
       "  <tbody>\n",
       "    <tr>\n",
       "      <th>0</th>\n",
       "      <td>Karenfurt</td>\n",
       "      <td>2017-01-01 19:03:03</td>\n",
       "      <td>32.90</td>\n",
       "      <td>3383346995405</td>\n",
       "    </tr>\n",
       "    <tr>\n",
       "      <th>1</th>\n",
       "      <td>Melissaborough</td>\n",
       "      <td>2017-01-01 08:55:58</td>\n",
       "      <td>19.59</td>\n",
       "      <td>2791839504576</td>\n",
       "    </tr>\n",
       "    <tr>\n",
       "      <th>2</th>\n",
       "      <td>Port Sandraport</td>\n",
       "      <td>2017-01-01 16:21:54</td>\n",
       "      <td>31.04</td>\n",
       "      <td>3341437383289</td>\n",
       "    </tr>\n",
       "    <tr>\n",
       "      <th>3</th>\n",
       "      <td>Curtismouth</td>\n",
       "      <td>2017-01-03 06:36:53</td>\n",
       "      <td>15.12</td>\n",
       "      <td>6557246300691</td>\n",
       "    </tr>\n",
       "    <tr>\n",
       "      <th>4</th>\n",
       "      <td>Port Michael</td>\n",
       "      <td>2017-01-03 09:56:52</td>\n",
       "      <td>19.65</td>\n",
       "      <td>9887635746234</td>\n",
       "    </tr>\n",
       "  </tbody>\n",
       "</table>\n",
       "</div>"
      ],
      "text/plain": [
       "              city                 date   fare        ride_id\n",
       "0        Karenfurt  2017-01-01 19:03:03  32.90  3383346995405\n",
       "1   Melissaborough  2017-01-01 08:55:58  19.59  2791839504576\n",
       "2  Port Sandraport  2017-01-01 16:21:54  31.04  3341437383289\n",
       "3      Curtismouth  2017-01-03 06:36:53  15.12  6557246300691\n",
       "4     Port Michael  2017-01-03 09:56:52  19.65  9887635746234"
      ]
     },
     "execution_count": 7,
     "metadata": {},
     "output_type": "execute_result"
    }
   ],
   "source": [
    "# read ride csv file\n",
    "ride_import_df = pd.read_csv(ride_import)\n",
    "ride_import_df.head()"
   ]
  },
  {
   "cell_type": "code",
   "execution_count": 168,
   "metadata": {},
   "outputs": [
    {
     "data": {
      "text/html": [
       "<div>\n",
       "<style scoped>\n",
       "    .dataframe tbody tr th:only-of-type {\n",
       "        vertical-align: middle;\n",
       "    }\n",
       "\n",
       "    .dataframe tbody tr th {\n",
       "        vertical-align: top;\n",
       "    }\n",
       "\n",
       "    .dataframe thead th {\n",
       "        text-align: right;\n",
       "    }\n",
       "</style>\n",
       "<table border=\"1\" class=\"dataframe\">\n",
       "  <thead>\n",
       "    <tr style=\"text-align: right;\">\n",
       "      <th></th>\n",
       "      <th>city</th>\n",
       "      <th>driver_count</th>\n",
       "      <th>type</th>\n",
       "      <th>date</th>\n",
       "      <th>fare</th>\n",
       "      <th>ride_id</th>\n",
       "    </tr>\n",
       "  </thead>\n",
       "  <tbody>\n",
       "    <tr>\n",
       "      <th>0</th>\n",
       "      <td>Tammyburgh</td>\n",
       "      <td>11</td>\n",
       "      <td>Urban</td>\n",
       "      <td>2017-01-02 10:56:28</td>\n",
       "      <td>12.40</td>\n",
       "      <td>7963408790849</td>\n",
       "    </tr>\n",
       "    <tr>\n",
       "      <th>1</th>\n",
       "      <td>Tammyburgh</td>\n",
       "      <td>11</td>\n",
       "      <td>Urban</td>\n",
       "      <td>2017-01-02 04:28:03</td>\n",
       "      <td>18.78</td>\n",
       "      <td>2315208159060</td>\n",
       "    </tr>\n",
       "    <tr>\n",
       "      <th>2</th>\n",
       "      <td>Tammyburgh</td>\n",
       "      <td>11</td>\n",
       "      <td>Urban</td>\n",
       "      <td>2017-01-03 03:00:08</td>\n",
       "      <td>30.10</td>\n",
       "      <td>558639764959</td>\n",
       "    </tr>\n",
       "    <tr>\n",
       "      <th>3</th>\n",
       "      <td>Tammyburgh</td>\n",
       "      <td>11</td>\n",
       "      <td>Urban</td>\n",
       "      <td>2017-01-01 00:10:21</td>\n",
       "      <td>7.76</td>\n",
       "      <td>9113511454178</td>\n",
       "    </tr>\n",
       "    <tr>\n",
       "      <th>4</th>\n",
       "      <td>Tammyburgh</td>\n",
       "      <td>11</td>\n",
       "      <td>Urban</td>\n",
       "      <td>2017-01-02 05:22:44</td>\n",
       "      <td>22.00</td>\n",
       "      <td>4171010688543</td>\n",
       "    </tr>\n",
       "    <tr>\n",
       "      <th>5</th>\n",
       "      <td>Tammyburgh</td>\n",
       "      <td>11</td>\n",
       "      <td>Urban</td>\n",
       "      <td>2017-01-02 21:29:38</td>\n",
       "      <td>5.37</td>\n",
       "      <td>5531485446571</td>\n",
       "    </tr>\n",
       "    <tr>\n",
       "      <th>6</th>\n",
       "      <td>Tammyburgh</td>\n",
       "      <td>11</td>\n",
       "      <td>Urban</td>\n",
       "      <td>2017-01-02 23:58:17</td>\n",
       "      <td>11.68</td>\n",
       "      <td>1012442651497</td>\n",
       "    </tr>\n",
       "    <tr>\n",
       "      <th>7</th>\n",
       "      <td>Tammyburgh</td>\n",
       "      <td>11</td>\n",
       "      <td>Urban</td>\n",
       "      <td>2017-01-02 21:10:16</td>\n",
       "      <td>31.16</td>\n",
       "      <td>7261786411548</td>\n",
       "    </tr>\n",
       "    <tr>\n",
       "      <th>8</th>\n",
       "      <td>Tammyburgh</td>\n",
       "      <td>11</td>\n",
       "      <td>Urban</td>\n",
       "      <td>2017-01-02 00:43:50</td>\n",
       "      <td>10.64</td>\n",
       "      <td>9221421228793</td>\n",
       "    </tr>\n",
       "    <tr>\n",
       "      <th>9</th>\n",
       "      <td>Tammyburgh</td>\n",
       "      <td>11</td>\n",
       "      <td>Urban</td>\n",
       "      <td>2017-01-01 12:39:10</td>\n",
       "      <td>9.88</td>\n",
       "      <td>6250336876297</td>\n",
       "    </tr>\n",
       "  </tbody>\n",
       "</table>\n",
       "</div>"
      ],
      "text/plain": [
       "         city  driver_count   type                 date   fare        ride_id\n",
       "0  Tammyburgh            11  Urban  2017-01-02 10:56:28  12.40  7963408790849\n",
       "1  Tammyburgh            11  Urban  2017-01-02 04:28:03  18.78  2315208159060\n",
       "2  Tammyburgh            11  Urban  2017-01-03 03:00:08  30.10   558639764959\n",
       "3  Tammyburgh            11  Urban  2017-01-01 00:10:21   7.76  9113511454178\n",
       "4  Tammyburgh            11  Urban  2017-01-02 05:22:44  22.00  4171010688543\n",
       "5  Tammyburgh            11  Urban  2017-01-02 21:29:38   5.37  5531485446571\n",
       "6  Tammyburgh            11  Urban  2017-01-02 23:58:17  11.68  1012442651497\n",
       "7  Tammyburgh            11  Urban  2017-01-02 21:10:16  31.16  7261786411548\n",
       "8  Tammyburgh            11  Urban  2017-01-02 00:43:50  10.64  9221421228793\n",
       "9  Tammyburgh            11  Urban  2017-01-01 12:39:10   9.88  6250336876297"
      ]
     },
     "execution_count": 168,
     "metadata": {},
     "output_type": "execute_result"
    }
   ],
   "source": [
    "# merge city and ride csvs\n",
    "merge_csv = pd.merge(city_import_df, ride_import_df, on=\"city\")\n",
    "merge_csv.head(10)"
   ]
  },
  {
   "cell_type": "code",
   "execution_count": 9,
   "metadata": {},
   "outputs": [
    {
     "data": {
      "text/html": [
       "<div>\n",
       "<style scoped>\n",
       "    .dataframe tbody tr th:only-of-type {\n",
       "        vertical-align: middle;\n",
       "    }\n",
       "\n",
       "    .dataframe tbody tr th {\n",
       "        vertical-align: top;\n",
       "    }\n",
       "\n",
       "    .dataframe thead th {\n",
       "        text-align: right;\n",
       "    }\n",
       "</style>\n",
       "<table border=\"1\" class=\"dataframe\">\n",
       "  <thead>\n",
       "    <tr style=\"text-align: right;\">\n",
       "      <th></th>\n",
       "      <th>city</th>\n",
       "      <th>driver_count</th>\n",
       "      <th>type</th>\n",
       "    </tr>\n",
       "  </thead>\n",
       "  <tbody>\n",
       "    <tr>\n",
       "      <th>0</th>\n",
       "      <td>Tammyburgh</td>\n",
       "      <td>11</td>\n",
       "      <td>Urban</td>\n",
       "    </tr>\n",
       "    <tr>\n",
       "      <th>1</th>\n",
       "      <td>Melissaborough</td>\n",
       "      <td>15</td>\n",
       "      <td>Urban</td>\n",
       "    </tr>\n",
       "    <tr>\n",
       "      <th>2</th>\n",
       "      <td>Port Brianborough</td>\n",
       "      <td>62</td>\n",
       "      <td>Urban</td>\n",
       "    </tr>\n",
       "    <tr>\n",
       "      <th>3</th>\n",
       "      <td>New Katherine</td>\n",
       "      <td>68</td>\n",
       "      <td>Urban</td>\n",
       "    </tr>\n",
       "    <tr>\n",
       "      <th>4</th>\n",
       "      <td>Lake Charlesside</td>\n",
       "      <td>65</td>\n",
       "      <td>Urban</td>\n",
       "    </tr>\n",
       "  </tbody>\n",
       "</table>\n",
       "</div>"
      ],
      "text/plain": [
       "                city  driver_count   type\n",
       "0         Tammyburgh            11  Urban\n",
       "1     Melissaborough            15  Urban\n",
       "2  Port Brianborough            62  Urban\n",
       "3      New Katherine            68  Urban\n",
       "4   Lake Charlesside            65  Urban"
      ]
     },
     "execution_count": 9,
     "metadata": {},
     "output_type": "execute_result"
    }
   ],
   "source": [
    "#remove duplicates in cities between csv files\n",
    "city_import_df = city_import_df.drop_duplicates(\"city\")\n",
    "city_import_df.head()"
   ]
  },
  {
   "cell_type": "code",
   "execution_count": 169,
   "metadata": {},
   "outputs": [
    {
     "data": {
      "text/plain": [
       "city\n",
       "Adamschester     29.59\n",
       "Alexisfort       27.37\n",
       "Amberberg        28.62\n",
       "Anthonyfurt      29.49\n",
       "Boyleberg        32.40\n",
       "Brianfurt        24.51\n",
       "Campbellmouth    34.18\n",
       "Catherinebury    27.31\n",
       "Curtismouth      25.05\n",
       "Davidbury        30.83\n",
       "Name: fare, dtype: float64"
      ]
     },
     "execution_count": 169,
     "metadata": {},
     "output_type": "execute_result"
    }
   ],
   "source": [
    "# average fare a city\n",
    "avg_fare = merge_csv.groupby(\"city\")[\"fare\"].mean()\n",
    "avg_fare.head(10).round(2)"
   ]
  },
  {
   "cell_type": "code",
   "execution_count": 170,
   "metadata": {},
   "outputs": [
    {
     "data": {
      "text/plain": [
       "city\n",
       "Adamschester      9\n",
       "Alexisfort       33\n",
       "Amberberg        16\n",
       "Anthonyfurt      17\n",
       "Boyleberg         5\n",
       "Brianfurt        22\n",
       "Campbellmouth     8\n",
       "Catherinebury    29\n",
       "Curtismouth      31\n",
       "Davidbury        20\n",
       "Name: ride_id, dtype: int64"
      ]
     },
     "execution_count": 170,
     "metadata": {},
     "output_type": "execute_result"
    }
   ],
   "source": [
    "# total rides a city\n",
    "rides_total = merge_csv.groupby(\"city\")[\"ride_id\"].count()\n",
    "rides_total.head(10)"
   ]
  },
  {
   "cell_type": "code",
   "execution_count": 171,
   "metadata": {},
   "outputs": [
    {
     "data": {
      "text/plain": [
       "city\n",
       "Adamschester    243\n",
       "Alexisfort      792\n",
       "Amberberg       208\n",
       "Anthonyfurt     289\n",
       "Boyleberg        65\n",
       "Name: driver_count, dtype: int64"
      ]
     },
     "execution_count": 171,
     "metadata": {},
     "output_type": "execute_result"
    }
   ],
   "source": [
    "# total number of drivers a city\n",
    "drivers_total = merge_csv.groupby(\"city\")[\"driver_count\"].sum()\n",
    "drivers_total.head()"
   ]
  },
  {
   "cell_type": "code",
   "execution_count": 195,
   "metadata": {
    "scrolled": false
   },
   "outputs": [
    {
     "data": {
      "text/plain": [
       "city\n",
       "Tammyburgh           Urban\n",
       "Melissaborough       Urban\n",
       "Port Brianborough    Urban\n",
       "New Katherine        Urban\n",
       "Lake Charlesside     Urban\n",
       "New Catherine        Urban\n",
       "North Rachaelberg    Urban\n",
       "North Sandra         Urban\n",
       "Whitneyfurt          Urban\n",
       "West Nathanville     Urban\n",
       "Name: type, dtype: object"
      ]
     },
     "execution_count": 195,
     "metadata": {},
     "output_type": "execute_result"
    }
   ],
   "source": [
    "# city type \n",
    "city_type = city_import_df.set_index(\"city\")[\"type\"]\n",
    "city_type.head(10)"
   ]
  },
  {
   "cell_type": "code",
   "execution_count": 226,
   "metadata": {
    "scrolled": true
   },
   "outputs": [
    {
     "data": {
      "text/html": [
       "<div>\n",
       "<style scoped>\n",
       "    .dataframe tbody tr th:only-of-type {\n",
       "        vertical-align: middle;\n",
       "    }\n",
       "\n",
       "    .dataframe tbody tr th {\n",
       "        vertical-align: top;\n",
       "    }\n",
       "\n",
       "    .dataframe thead th {\n",
       "        text-align: right;\n",
       "    }\n",
       "</style>\n",
       "<table border=\"1\" class=\"dataframe\">\n",
       "  <thead>\n",
       "    <tr style=\"text-align: right;\">\n",
       "      <th></th>\n",
       "      <th>Average Fare</th>\n",
       "      <th>City Type</th>\n",
       "      <th>Total Drivers</th>\n",
       "      <th>Total Rides</th>\n",
       "    </tr>\n",
       "  </thead>\n",
       "  <tbody>\n",
       "    <tr>\n",
       "      <th>Adamschester</th>\n",
       "      <td>29.59</td>\n",
       "      <td>Suburban</td>\n",
       "      <td>243</td>\n",
       "      <td>9</td>\n",
       "    </tr>\n",
       "    <tr>\n",
       "      <th>Alexisfort</th>\n",
       "      <td>27.37</td>\n",
       "      <td>Urban</td>\n",
       "      <td>792</td>\n",
       "      <td>33</td>\n",
       "    </tr>\n",
       "    <tr>\n",
       "      <th>Amberberg</th>\n",
       "      <td>28.62</td>\n",
       "      <td>Suburban</td>\n",
       "      <td>208</td>\n",
       "      <td>16</td>\n",
       "    </tr>\n",
       "    <tr>\n",
       "      <th>Anthonyfurt</th>\n",
       "      <td>29.49</td>\n",
       "      <td>Suburban</td>\n",
       "      <td>289</td>\n",
       "      <td>17</td>\n",
       "    </tr>\n",
       "    <tr>\n",
       "      <th>Boyleberg</th>\n",
       "      <td>32.40</td>\n",
       "      <td>Suburban</td>\n",
       "      <td>65</td>\n",
       "      <td>5</td>\n",
       "    </tr>\n",
       "    <tr>\n",
       "      <th>Brianfurt</th>\n",
       "      <td>24.51</td>\n",
       "      <td>Urban</td>\n",
       "      <td>88</td>\n",
       "      <td>22</td>\n",
       "    </tr>\n",
       "    <tr>\n",
       "      <th>Campbellmouth</th>\n",
       "      <td>34.18</td>\n",
       "      <td>Rural</td>\n",
       "      <td>16</td>\n",
       "      <td>8</td>\n",
       "    </tr>\n",
       "    <tr>\n",
       "      <th>Catherinebury</th>\n",
       "      <td>27.31</td>\n",
       "      <td>Urban</td>\n",
       "      <td>203</td>\n",
       "      <td>29</td>\n",
       "    </tr>\n",
       "    <tr>\n",
       "      <th>Curtismouth</th>\n",
       "      <td>25.05</td>\n",
       "      <td>Urban</td>\n",
       "      <td>1240</td>\n",
       "      <td>31</td>\n",
       "    </tr>\n",
       "    <tr>\n",
       "      <th>Davidbury</th>\n",
       "      <td>30.83</td>\n",
       "      <td>Suburban</td>\n",
       "      <td>260</td>\n",
       "      <td>20</td>\n",
       "    </tr>\n",
       "  </tbody>\n",
       "</table>\n",
       "</div>"
      ],
      "text/plain": [
       "               Average Fare City Type  Total Drivers  Total Rides\n",
       "Adamschester          29.59  Suburban            243            9\n",
       "Alexisfort            27.37     Urban            792           33\n",
       "Amberberg             28.62  Suburban            208           16\n",
       "Anthonyfurt           29.49  Suburban            289           17\n",
       "Boyleberg             32.40  Suburban             65            5\n",
       "Brianfurt             24.51     Urban             88           22\n",
       "Campbellmouth         34.18     Rural             16            8\n",
       "Catherinebury         27.31     Urban            203           29\n",
       "Curtismouth           25.05     Urban           1240           31\n",
       "Davidbury             30.83  Suburban            260           20"
      ]
     },
     "execution_count": 226,
     "metadata": {},
     "output_type": "execute_result"
    }
   ],
   "source": [
    "# need dataframe for series\n",
    "cities = pd.DataFrame({\"Average Fare\": avg_fare, \"Total Rides\": rides_total, \"Total Drivers\": drivers_total, \"City Type\": city_type})\n",
    "cities.head(10).round(2)"
   ]
  },
  {
   "cell_type": "code",
   "execution_count": 295,
   "metadata": {
    "scrolled": true
   },
   "outputs": [
    {
     "data": {
      "image/png": "[encoded data removed]",
      "text/plain": [
       "<matplotlib.figure.Figure at 0x1a1f1acbe0>"
      ]
     },
     "metadata": {},
     "output_type": "display_data"
    }
   ],
   "source": [
    "# scatter plots for urban, suburban, rural\n",
    "urban_plot = plt.scatter(urban[\"Total Rides\"],urban[\"Average Fare\"], facecolors = \"lightskyblue\", edgecolors = \"black\", s = urban[\"Total Drivers\"]*0.1,label= \"Urban\", alpha = 0.35, linewidth = 1.3)\n",
    "suburban_plot = plt.scatter(suburban[\"Total Rides\"], suburban[\"Average Fare\"], facecolors = \"gold\", edgecolors = \"black\", s = urban[\"Total Drivers\"]*0.07, label = \"Suburban\", alpha = 0.48, linewidth = 1.4)\n",
    "rural_plot = plt.scatter(rural[\"Total Rides\"], rural[\"Average Fare\"], facecolors = \"lightcoral\",edgecolors = \"black\", s = rural[\"Total Drivers\"]*2, label = \"Rural\", alpha = 0.60, linewidth = 1.7)\n",
    "\n",
    "plt.xlim(1,40)\n",
    "plt.ylim(20,50)\n",
    "\n",
    "# add title and axis labels\n",
    "plt.title(\"Pyber Rider and Fare Relationship\")\n",
    "plt.xlabel(\"Total Rides\")\n",
    "plt.ylabel(\"Average Fare\")\n",
    "\n",
    "# add legend\n",
    "plt.legend(handles = [urban_plot, suburban_plot, rural_plot], loc = \"upper right\")\n",
    "\n",
    "# show plot\n",
    "plt.savefig(\"pyber.png\")\n",
    "plt.show()"
   ]
  },
  {
   "cell_type": "code",
   "execution_count": 203,
   "metadata": {},
   "outputs": [
    {
     "data": {
      "text/plain": [
       "type\n",
       "Rural        4271.69\n",
       "Suburban    18779.26\n",
       "Urban       40093.25\n",
       "Name: fare, dtype: float64"
      ]
     },
     "execution_count": 203,
     "metadata": {},
     "output_type": "execute_result"
    }
   ],
   "source": [
    "# city fare pie chart info\n",
    "fare_info = merge_csv.groupby([\"type\"])[\"fare\"].sum()\n",
    "fare_info"
   ]
  },
  {
   "cell_type": "code",
   "execution_count": 213,
   "metadata": {},
   "outputs": [
    {
     "data": {
      "image/png": "[encoded data removed]",
      "text/plain": [
       "<matplotlib.figure.Figure at 0x1a1f385e80>"
      ]
     },
     "metadata": {},
     "output_type": "display_data"
    }
   ],
   "source": [
    "# pie chart specifics\n",
    "pie_labels = fare_info.index\n",
    "colors = [\"lightcoral\", \"gold\", \"lightskyblue\"]\n",
    "explode = (0, 0, 0.13)\n",
    "# plot\n",
    "pie_chart = plt.pie(fare_info, labels= pie_labels, colors=colors, explode=explode, autopct=\"%1.1f%%\", shadow=True, startangle =130)\n",
    "plt.title(\"Total Fares Percentage by City Type\")\n",
    "plt.axis(\"equal\")\n",
    "plt.show()"
   ]
  },
  {
   "cell_type": "code",
   "execution_count": 155,
   "metadata": {},
   "outputs": [
    {
     "data": {
      "text/plain": [
       "type\n",
       "Rural        125\n",
       "Suburban     625\n",
       "Urban       1625\n",
       "Name: ride_id, dtype: int64"
      ]
     },
     "execution_count": 155,
     "metadata": {},
     "output_type": "execute_result"
    }
   ],
   "source": [
    "# city ride pie chart info\n",
    "ride_info = merge_csv.groupby([\"type\"])[\"ride_id\"].count()\n",
    "ride_info"
   ]
  },
  {
   "cell_type": "code",
   "execution_count": 156,
   "metadata": {},
   "outputs": [
    {
     "data": {
      "image/png": "[encoded data removed]",
      "text/plain": [
       "<matplotlib.figure.Figure at 0x1a1e30f0b8>"
      ]
     },
     "metadata": {},
     "output_type": "display_data"
    }
   ],
   "source": [
    "# pie chart specifics\n",
    "pie_labels2 = ride_info.index\n",
    "colors = [\"lightcoral\", \"gold\", \"lightskyblue\"]\n",
    "explode = (0, 0.17, 0)\n",
    "# plot\n",
    "pie_chart = plt.pie(ride_info, labels= pie_labels2, colors=colors, explode=explode, autopct=\"%1.1f%%\", shadow=False, startangle =85)\n",
    "plt.title(\"Total Rides Percentage by City Type\")\n",
    "plt.axis(\"equal\")\n",
    "plt.show()"
   ]
  },
  {
   "cell_type": "code",
   "execution_count": 215,
   "metadata": {},
   "outputs": [
    {
     "data": {
      "text/plain": [
       "type\n",
       "Rural         662\n",
       "Suburban     8774\n",
       "Urban       60935\n",
       "Name: driver_count, dtype: int64"
      ]
     },
     "execution_count": 215,
     "metadata": {},
     "output_type": "execute_result"
    }
   ],
   "source": [
    "# city drivers pie chart info\n",
    "driver_info = merge_csv.groupby([\"type\"])[\"driver_count\"].sum()\n",
    "driver_info.round(2)"
   ]
  },
  {
   "cell_type": "code",
   "execution_count": 217,
   "metadata": {},
   "outputs": [
    {
     "data": {
      "image/png": "[encoded data removed]",
      "text/plain": [
       "<matplotlib.figure.Figure at 0x1a1f4eac88>"
      ]
     },
     "metadata": {},
     "output_type": "display_data"
    }
   ],
   "source": [
    "# pie chart specifics\n",
    "pie_labels3 = driver_info.index\n",
    "colors = [\"lightcoral\", \"gold\", \"lightskyblue\"]\n",
    "explode = (0.1, 0.17, 0.12)\n",
    "# plot\n",
    "pie_chart = plt.pie(driver_info, labels= pie_labels3, colors=colors, explode=explode, autopct=\"%1.1f%%\", shadow=True, startangle =67)\n",
    "plt.title(\"Total Driver Percentage by City Type\")\n",
    "plt.axis(\"equal\")\n",
    "plt.show()"
   ]
  },
  {
   "cell_type": "code",
   "execution_count": null,
   "metadata": {},
   "outputs": [],
   "source": []
  }
 ],
 "metadata": {
  "kernelspec": {
   "display_name": "Python 3",
   "language": "python",
   "name": "python3"
  },
  "language_info": {
   "codemirror_mode": {
    "name": "ipython",
    "version": 3
   },
   "file_extension": ".py",
   "mimetype": "text/x-python",
   "name": "python",
   "nbconvert_exporter": "python",
   "pygments_lexer": "ipython3",
   "version": "3.6.4"
  }
 },
 "nbformat": 4,
 "nbformat_minor": 2
}
